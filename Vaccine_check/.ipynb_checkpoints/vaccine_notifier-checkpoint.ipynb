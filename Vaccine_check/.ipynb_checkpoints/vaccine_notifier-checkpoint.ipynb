{
 "cells": [
  {
   "cell_type": "markdown",
   "id": "quality-comparison",
   "metadata": {
    "toc": true
   },
   "source": [
    "<h1>Table of Contents<span class=\"tocSkip\"></span></h1>\n",
    "<div class=\"toc\"><ul class=\"toc-item\"></ul></div>"
   ]
  },
  {
   "cell_type": "code",
   "execution_count": 17,
   "id": "interracial-mathematics",
   "metadata": {},
   "outputs": [],
   "source": [
    "from bs4 import BeautifulSoup\n",
    "import requests\n",
    "from datetime import date"
   ]
  },
  {
   "cell_type": "code",
   "execution_count": 12,
   "id": "express-invite",
   "metadata": {},
   "outputs": [],
   "source": [
    "pincode = 560102"
   ]
  },
  {
   "cell_type": "code",
   "execution_count": 22,
   "id": "alternate-aurora",
   "metadata": {},
   "outputs": [
    {
     "data": {
      "text/plain": [
       "int"
      ]
     },
     "execution_count": 22,
     "metadata": {},
     "output_type": "execute_result"
    }
   ],
   "source": [
    "today = date.today()\n",
    "today.day"
   ]
  },
  {
   "cell_type": "code",
   "execution_count": 83,
   "id": "demanding-pulse",
   "metadata": {},
   "outputs": [],
   "source": [
    "URL = \"https://cdn-api.co-vin.in/api/v2/appointment/sessions/public/calendarByPin?pincode=\"+str(pincode)+\"&date=04-05-2021\" #need to change the date here to take the current date from the system\n",
    "\n",
    "page = requests.get(URL)"
   ]
  },
  {
   "cell_type": "code",
   "execution_count": 84,
   "id": "sustainable-system",
   "metadata": {},
   "outputs": [],
   "source": [
    "soup = BeautifulSoup(page.content, 'html.parser')"
   ]
  },
  {
   "cell_type": "code",
   "execution_count": 85,
   "id": "embedded-graphics",
   "metadata": {},
   "outputs": [],
   "source": [
    "data = soup.text"
   ]
  },
  {
   "cell_type": "code",
   "execution_count": 86,
   "id": "leading-queue",
   "metadata": {},
   "outputs": [
    {
     "data": {
      "text/plain": [
       "'{\"centers\":[{\"center_id\":96191,\"name\":\"Gobardhana HWC\",\"address\":\"Gobardhana\",\"state_name\":\"Assam\",\"district_name\":\"Barpeta\",\"block_name\":\"Barpeta Road\",\"pincode\":781315,\"lat\":26,\"long\":90,\"from\":\"09:00:00\",\"to\":\"18:00:00\",\"fee_type\":\"\",\"sessions\":[{\"session_id\":\"47210281-9673-4246-b299-c33cc68888c0\",\"date\":\"04-05-2021\",\"available_capacity\":0,\"min_age_limit\":45,\"vaccine\":\"COVAXIN\",\"slots\":[\"09:00AM-11:00AM\",\"11:00AM-01:00PM\",\"01:00PM-03:00PM\",\"03:00PM-06:00PM\"]}]},{\"center_id\":607586,\"name\":\"Nimua MPHC 1\",\"address\":\"Village Nimua\",\"state_name\":\"Assam\",\"district_name\":\"Baksa\",\"block_name\":\"Jalah BPHC\",\"pincode\":781315,\"lat\":26,\"long\":91,\"from\":\"09:00:00\",\"to\":\"18:00:00\",\"fee_type\":\"Free\",\"sessions\":[{\"session_id\":\"f6ae600d-6c51-4cae-8491-6a145c63bfc9\",\"date\":\"04-05-2021\",\"available_capacity\":45,\"min_age_limit\":45,\"vaccine\":\"COVAXIN\",\"slots\":[\"09:00AM-11:00AM\",\"11:00AM-01:00PM\",\"01:00PM-03:00PM\",\"03:00PM-06:00PM\"]}]},{\"center_id\":96244,\"name\":\"Barpeta Road BPHC COVISHIELD\",\"address\":\"Kkishna Nagar\",\"state_name\":\"Assam\",\"district_name\":\"Barpeta\",\"block_name\":\"Barpeta Road\",\"pincode\":781315,\"lat\":26,\"long\":90,\"from\":\"09:00:00\",\"to\":\"18:00:00\",\"fee_type\":\"Free\",\"sessions\":[{\"session_id\":\"7834bce4-34be-48dd-ad78-0e9c00cb642e\",\"date\":\"04-05-2021\",\"available_capacity\":0,\"min_age_limit\":45,\"vaccine\":\"COVISHIELD\",\"slots\":[\"09:00AM-11:00AM\",\"11:00AM-01:00PM\",\"01:00PM-03:00PM\",\"03:00PM-06:00PM\"]},{\"session_id\":\"88aa19a4-000f-46ba-9353-108d547bb7b8\",\"date\":\"05-05-2021\",\"available_capacity\":0,\"min_age_limit\":45,\"vaccine\":\"COVISHIELD\",\"slots\":[\"09:00AM-11:00AM\",\"11:00AM-01:00PM\",\"01:00PM-03:00PM\",\"03:00PM-06:00PM\"]}]},{\"center_id\":96231,\"name\":\"Barapeta Farm HWC\",\"address\":\"Barapeta Farm\",\"state_name\":\"Assam\",\"district_name\":\"Barpeta\",\"block_name\":\"Barpeta Road\",\"pincode\":781315,\"lat\":26,\"long\":90,\"from\":\"09:00:00\",\"to\":\"18:00:00\",\"fee_type\":\"\",\"sessions\":[{\"session_id\":\"529bb793-fd51-48f7-8b18-486fef45d52c\",\"date\":\"04-05-2021\",\"available_capacity\":0,\"min_age_limit\":45,\"vaccine\":\"COVAXIN\",\"slots\":[\"09:00AM-11:00AM\",\"11:00AM-01:00PM\",\"01:00PM-03:00PM\",\"03:00PM-06:00PM\"]},{\"session_id\":\"963fde61-881d-4f84-add3-230716b3fce2\",\"date\":\"05-05-2021\",\"available_capacity\":0,\"min_age_limit\":45,\"vaccine\":\"COVAXIN\",\"slots\":[\"09:00AM-11:00AM\",\"11:00AM-01:00PM\",\"01:00PM-03:00PM\",\"03:00PM-06:00PM\"]},{\"session_id\":\"b08889e7-9abe-4b13-896b-d43ff0ab153b\",\"date\":\"06-05-2021\",\"available_capacity\":0,\"min_age_limit\":45,\"vaccine\":\"COVAXIN\",\"slots\":[\"09:00AM-11:00AM\",\"11:00AM-01:00PM\",\"01:00PM-03:00PM\",\"03:00PM-06:00PM\"]},{\"session_id\":\"2a929c24-3c13-426c-9ff0-5f83fd7c5345\",\"date\":\"07-05-2021\",\"available_capacity\":0,\"min_age_limit\":45,\"vaccine\":\"COVAXIN\",\"slots\":[\"09:00AM-11:00AM\",\"11:00AM-01:00PM\",\"01:00PM-03:00PM\",\"03:00PM-06:00PM\"]},{\"session_id\":\"035948b6-8027-4046-a2df-cb2f36a4950c\",\"date\":\"08-05-2021\",\"available_capacity\":0,\"min_age_limit\":45,\"vaccine\":\"COVAXIN\",\"slots\":[\"09:00AM-11:00AM\",\"11:00AM-01:00PM\",\"01:00PM-03:00PM\",\"03:00PM-06:00PM\"]},{\"session_id\":\"8da59bd3-3696-4492-8a11-085cc461f745\",\"date\":\"09-05-2021\",\"available_capacity\":0,\"min_age_limit\":45,\"vaccine\":\"COVAXIN\",\"slots\":[\"09:00AM-11:00AM\",\"11:00AM-01:00PM\",\"01:00PM-03:00PM\",\"03:00PM-06:00PM\"]},{\"session_id\":\"9b8449a1-ecdb-4ddb-9f09-2b3e943c986c\",\"date\":\"10-05-2021\",\"available_capacity\":0,\"min_age_limit\":45,\"vaccine\":\"COVAXIN\",\"slots\":[\"09:00AM-11:00AM\",\"11:00AM-01:00PM\",\"01:00PM-03:00PM\",\"03:00PM-06:00PM\"]}]},{\"center_id\":562756,\"name\":\"Barpeta Road PHC\",\"address\":\"Barpeta Road\",\"state_name\":\"Assam\",\"district_name\":\"Barpeta\",\"block_name\":\"Barpeta Road\",\"pincode\":781315,\"lat\":26,\"long\":90,\"from\":\"09:00:00\",\"to\":\"18:00:00\",\"fee_type\":\"Free\",\"sessions\":[{\"session_id\":\"3ac96f0f-9872-4dfa-8576-e0800ea677de\",\"date\":\"05-05-2021\",\"available_capacity\":0,\"min_age_limit\":45,\"vaccine\":\"COVAXIN\",\"slots\":[\"09:00AM-11:00AM\",\"11:00AM-01:00PM\",\"01:00PM-03:00PM\",\"03:00PM-06:00PM\"]},{\"session_id\":\"b5e6675c-46fa-453c-b82a-90a14de6433f\",\"date\":\"06-05-2021\",\"available_capacity\":0,\"min_age_limit\":45,\"vaccine\":\"COVAXIN\",\"slots\":[\"09:00AM-11:00AM\",\"11:00AM-01:00PM\",\"01:00PM-03:00PM\",\"03:00PM-06:00PM\"]},{\"session_id\":\"6d683202-b984-4ae6-8eed-9a9e413cac22\",\"date\":\"07-05-2021\",\"available_capacity\":0,\"min_age_limit\":45,\"vaccine\":\"COVAXIN\",\"slots\":[\"09:00AM-11:00AM\",\"11:00AM-01:00PM\",\"01:00PM-03:00PM\",\"03:00PM-06:00PM\"]},{\"session_id\":\"b5140f0d-55dd-4878-a743-0b913649ca49\",\"date\":\"08-05-2021\",\"available_capacity\":0,\"min_age_limit\":45,\"vaccine\":\"COVAXIN\",\"slots\":[\"09:00AM-11:00AM\",\"11:00AM-01:00PM\",\"01:00PM-03:00PM\",\"03:00PM-06:00PM\"]},{\"session_id\":\"023d3c0d-d4b9-4542-ba25-044cbd0982fb\",\"date\":\"09-05-2021\",\"available_capacity\":0,\"min_age_limit\":45,\"vaccine\":\"COVAXIN\",\"slots\":[\"09:00AM-11:00AM\",\"11:00AM-01:00PM\",\"01:00PM-03:00PM\",\"03:00PM-06:00PM\"]}]}]}'"
      ]
     },
     "execution_count": 86,
     "metadata": {},
     "output_type": "execute_result"
    }
   ],
   "source": [
    "data"
   ]
  },
  {
   "cell_type": "code",
   "execution_count": 87,
   "id": "photographic-religious",
   "metadata": {},
   "outputs": [],
   "source": [
    "import json"
   ]
  },
  {
   "cell_type": "code",
   "execution_count": 88,
   "id": "everyday-strap",
   "metadata": {},
   "outputs": [],
   "source": [
    "d = json.loads(data)"
   ]
  },
  {
   "cell_type": "code",
   "execution_count": 91,
   "id": "blind-focus",
   "metadata": {},
   "outputs": [
    {
     "data": {
      "text/plain": [
       "[{'center_id': 96191,\n",
       "  'name': 'Gobardhana HWC',\n",
       "  'address': 'Gobardhana',\n",
       "  'state_name': 'Assam',\n",
       "  'district_name': 'Barpeta',\n",
       "  'block_name': 'Barpeta Road',\n",
       "  'pincode': 781315,\n",
       "  'lat': 26,\n",
       "  'long': 90,\n",
       "  'from': '09:00:00',\n",
       "  'to': '18:00:00',\n",
       "  'fee_type': '',\n",
       "  'sessions': [{'session_id': '47210281-9673-4246-b299-c33cc68888c0',\n",
       "    'date': '04-05-2021',\n",
       "    'available_capacity': 0,\n",
       "    'min_age_limit': 45,\n",
       "    'vaccine': 'COVAXIN',\n",
       "    'slots': ['09:00AM-11:00AM',\n",
       "     '11:00AM-01:00PM',\n",
       "     '01:00PM-03:00PM',\n",
       "     '03:00PM-06:00PM']}]},\n",
       " {'center_id': 607586,\n",
       "  'name': 'Nimua MPHC 1',\n",
       "  'address': 'Village Nimua',\n",
       "  'state_name': 'Assam',\n",
       "  'district_name': 'Baksa',\n",
       "  'block_name': 'Jalah BPHC',\n",
       "  'pincode': 781315,\n",
       "  'lat': 26,\n",
       "  'long': 91,\n",
       "  'from': '09:00:00',\n",
       "  'to': '18:00:00',\n",
       "  'fee_type': 'Free',\n",
       "  'sessions': [{'session_id': 'f6ae600d-6c51-4cae-8491-6a145c63bfc9',\n",
       "    'date': '04-05-2021',\n",
       "    'available_capacity': 45,\n",
       "    'min_age_limit': 45,\n",
       "    'vaccine': 'COVAXIN',\n",
       "    'slots': ['09:00AM-11:00AM',\n",
       "     '11:00AM-01:00PM',\n",
       "     '01:00PM-03:00PM',\n",
       "     '03:00PM-06:00PM']}]},\n",
       " {'center_id': 96244,\n",
       "  'name': 'Barpeta Road BPHC COVISHIELD',\n",
       "  'address': 'Kkishna Nagar',\n",
       "  'state_name': 'Assam',\n",
       "  'district_name': 'Barpeta',\n",
       "  'block_name': 'Barpeta Road',\n",
       "  'pincode': 781315,\n",
       "  'lat': 26,\n",
       "  'long': 90,\n",
       "  'from': '09:00:00',\n",
       "  'to': '18:00:00',\n",
       "  'fee_type': 'Free',\n",
       "  'sessions': [{'session_id': '7834bce4-34be-48dd-ad78-0e9c00cb642e',\n",
       "    'date': '04-05-2021',\n",
       "    'available_capacity': 0,\n",
       "    'min_age_limit': 45,\n",
       "    'vaccine': 'COVISHIELD',\n",
       "    'slots': ['09:00AM-11:00AM',\n",
       "     '11:00AM-01:00PM',\n",
       "     '01:00PM-03:00PM',\n",
       "     '03:00PM-06:00PM']},\n",
       "   {'session_id': '88aa19a4-000f-46ba-9353-108d547bb7b8',\n",
       "    'date': '05-05-2021',\n",
       "    'available_capacity': 0,\n",
       "    'min_age_limit': 45,\n",
       "    'vaccine': 'COVISHIELD',\n",
       "    'slots': ['09:00AM-11:00AM',\n",
       "     '11:00AM-01:00PM',\n",
       "     '01:00PM-03:00PM',\n",
       "     '03:00PM-06:00PM']}]},\n",
       " {'center_id': 96231,\n",
       "  'name': 'Barapeta Farm HWC',\n",
       "  'address': 'Barapeta Farm',\n",
       "  'state_name': 'Assam',\n",
       "  'district_name': 'Barpeta',\n",
       "  'block_name': 'Barpeta Road',\n",
       "  'pincode': 781315,\n",
       "  'lat': 26,\n",
       "  'long': 90,\n",
       "  'from': '09:00:00',\n",
       "  'to': '18:00:00',\n",
       "  'fee_type': '',\n",
       "  'sessions': [{'session_id': '529bb793-fd51-48f7-8b18-486fef45d52c',\n",
       "    'date': '04-05-2021',\n",
       "    'available_capacity': 0,\n",
       "    'min_age_limit': 45,\n",
       "    'vaccine': 'COVAXIN',\n",
       "    'slots': ['09:00AM-11:00AM',\n",
       "     '11:00AM-01:00PM',\n",
       "     '01:00PM-03:00PM',\n",
       "     '03:00PM-06:00PM']},\n",
       "   {'session_id': '963fde61-881d-4f84-add3-230716b3fce2',\n",
       "    'date': '05-05-2021',\n",
       "    'available_capacity': 0,\n",
       "    'min_age_limit': 45,\n",
       "    'vaccine': 'COVAXIN',\n",
       "    'slots': ['09:00AM-11:00AM',\n",
       "     '11:00AM-01:00PM',\n",
       "     '01:00PM-03:00PM',\n",
       "     '03:00PM-06:00PM']},\n",
       "   {'session_id': 'b08889e7-9abe-4b13-896b-d43ff0ab153b',\n",
       "    'date': '06-05-2021',\n",
       "    'available_capacity': 0,\n",
       "    'min_age_limit': 45,\n",
       "    'vaccine': 'COVAXIN',\n",
       "    'slots': ['09:00AM-11:00AM',\n",
       "     '11:00AM-01:00PM',\n",
       "     '01:00PM-03:00PM',\n",
       "     '03:00PM-06:00PM']},\n",
       "   {'session_id': '2a929c24-3c13-426c-9ff0-5f83fd7c5345',\n",
       "    'date': '07-05-2021',\n",
       "    'available_capacity': 0,\n",
       "    'min_age_limit': 45,\n",
       "    'vaccine': 'COVAXIN',\n",
       "    'slots': ['09:00AM-11:00AM',\n",
       "     '11:00AM-01:00PM',\n",
       "     '01:00PM-03:00PM',\n",
       "     '03:00PM-06:00PM']},\n",
       "   {'session_id': '035948b6-8027-4046-a2df-cb2f36a4950c',\n",
       "    'date': '08-05-2021',\n",
       "    'available_capacity': 0,\n",
       "    'min_age_limit': 45,\n",
       "    'vaccine': 'COVAXIN',\n",
       "    'slots': ['09:00AM-11:00AM',\n",
       "     '11:00AM-01:00PM',\n",
       "     '01:00PM-03:00PM',\n",
       "     '03:00PM-06:00PM']},\n",
       "   {'session_id': '8da59bd3-3696-4492-8a11-085cc461f745',\n",
       "    'date': '09-05-2021',\n",
       "    'available_capacity': 0,\n",
       "    'min_age_limit': 45,\n",
       "    'vaccine': 'COVAXIN',\n",
       "    'slots': ['09:00AM-11:00AM',\n",
       "     '11:00AM-01:00PM',\n",
       "     '01:00PM-03:00PM',\n",
       "     '03:00PM-06:00PM']},\n",
       "   {'session_id': '9b8449a1-ecdb-4ddb-9f09-2b3e943c986c',\n",
       "    'date': '10-05-2021',\n",
       "    'available_capacity': 0,\n",
       "    'min_age_limit': 45,\n",
       "    'vaccine': 'COVAXIN',\n",
       "    'slots': ['09:00AM-11:00AM',\n",
       "     '11:00AM-01:00PM',\n",
       "     '01:00PM-03:00PM',\n",
       "     '03:00PM-06:00PM']}]},\n",
       " {'center_id': 562756,\n",
       "  'name': 'Barpeta Road PHC',\n",
       "  'address': 'Barpeta Road',\n",
       "  'state_name': 'Assam',\n",
       "  'district_name': 'Barpeta',\n",
       "  'block_name': 'Barpeta Road',\n",
       "  'pincode': 781315,\n",
       "  'lat': 26,\n",
       "  'long': 90,\n",
       "  'from': '09:00:00',\n",
       "  'to': '18:00:00',\n",
       "  'fee_type': 'Free',\n",
       "  'sessions': [{'session_id': '3ac96f0f-9872-4dfa-8576-e0800ea677de',\n",
       "    'date': '05-05-2021',\n",
       "    'available_capacity': 0,\n",
       "    'min_age_limit': 45,\n",
       "    'vaccine': 'COVAXIN',\n",
       "    'slots': ['09:00AM-11:00AM',\n",
       "     '11:00AM-01:00PM',\n",
       "     '01:00PM-03:00PM',\n",
       "     '03:00PM-06:00PM']},\n",
       "   {'session_id': 'b5e6675c-46fa-453c-b82a-90a14de6433f',\n",
       "    'date': '06-05-2021',\n",
       "    'available_capacity': 0,\n",
       "    'min_age_limit': 45,\n",
       "    'vaccine': 'COVAXIN',\n",
       "    'slots': ['09:00AM-11:00AM',\n",
       "     '11:00AM-01:00PM',\n",
       "     '01:00PM-03:00PM',\n",
       "     '03:00PM-06:00PM']},\n",
       "   {'session_id': '6d683202-b984-4ae6-8eed-9a9e413cac22',\n",
       "    'date': '07-05-2021',\n",
       "    'available_capacity': 0,\n",
       "    'min_age_limit': 45,\n",
       "    'vaccine': 'COVAXIN',\n",
       "    'slots': ['09:00AM-11:00AM',\n",
       "     '11:00AM-01:00PM',\n",
       "     '01:00PM-03:00PM',\n",
       "     '03:00PM-06:00PM']},\n",
       "   {'session_id': 'b5140f0d-55dd-4878-a743-0b913649ca49',\n",
       "    'date': '08-05-2021',\n",
       "    'available_capacity': 0,\n",
       "    'min_age_limit': 45,\n",
       "    'vaccine': 'COVAXIN',\n",
       "    'slots': ['09:00AM-11:00AM',\n",
       "     '11:00AM-01:00PM',\n",
       "     '01:00PM-03:00PM',\n",
       "     '03:00PM-06:00PM']},\n",
       "   {'session_id': '023d3c0d-d4b9-4542-ba25-044cbd0982fb',\n",
       "    'date': '09-05-2021',\n",
       "    'available_capacity': 0,\n",
       "    'min_age_limit': 45,\n",
       "    'vaccine': 'COVAXIN',\n",
       "    'slots': ['09:00AM-11:00AM',\n",
       "     '11:00AM-01:00PM',\n",
       "     '01:00PM-03:00PM',\n",
       "     '03:00PM-06:00PM']}]}]"
      ]
     },
     "execution_count": 91,
     "metadata": {},
     "output_type": "execute_result"
    }
   ],
   "source": [
    "d[\"centers\"]"
   ]
  },
  {
   "cell_type": "markdown",
   "id": "exact-switzerland",
   "metadata": {},
   "source": [
    "final_data = str(d['centers']).replace('[','').replace(']','')"
   ]
  },
  {
   "cell_type": "code",
   "execution_count": 92,
   "id": "classical-regulation",
   "metadata": {},
   "outputs": [],
   "source": [
    "temp = str(d['centers']).replace(\"'\",\"\\\"\")"
   ]
  },
  {
   "cell_type": "code",
   "execution_count": 93,
   "id": "silent-trading",
   "metadata": {},
   "outputs": [],
   "source": [
    "final_data = json.loads(temp)"
   ]
  },
  {
   "cell_type": "code",
   "execution_count": 99,
   "id": "incoming-attachment",
   "metadata": {},
   "outputs": [
    {
     "data": {
      "text/plain": [
       "{'center_id': 96191,\n",
       " 'name': 'Gobardhana HWC',\n",
       " 'address': 'Gobardhana',\n",
       " 'state_name': 'Assam',\n",
       " 'district_name': 'Barpeta',\n",
       " 'block_name': 'Barpeta Road',\n",
       " 'pincode': 781315,\n",
       " 'lat': 26,\n",
       " 'long': 90,\n",
       " 'from': '09:00:00',\n",
       " 'to': '18:00:00',\n",
       " 'fee_type': '',\n",
       " 'sessions': [{'session_id': '47210281-9673-4246-b299-c33cc68888c0',\n",
       "   'date': '04-05-2021',\n",
       "   'available_capacity': 0,\n",
       "   'min_age_limit': 45,\n",
       "   'vaccine': 'COVAXIN',\n",
       "   'slots': ['09:00AM-11:00AM',\n",
       "    '11:00AM-01:00PM',\n",
       "    '01:00PM-03:00PM',\n",
       "    '03:00PM-06:00PM']}]}"
      ]
     },
     "execution_count": 99,
     "metadata": {},
     "output_type": "execute_result"
    }
   ],
   "source": [
    "final_data[0]#[\"sessions\"][\"available_capacity\"]"
   ]
  },
  {
   "cell_type": "code",
   "execution_count": 82,
   "id": "maritime-distinction",
   "metadata": {},
   "outputs": [
    {
     "ename": "TypeError",
     "evalue": "list indices must be integers or slices, not str",
     "output_type": "error",
     "traceback": [
      "\u001b[1;31m---------------------------------------------------------------------------\u001b[0m",
      "\u001b[1;31mTypeError\u001b[0m                                 Traceback (most recent call last)",
      "\u001b[1;32m<ipython-input-82-28506670833b>\u001b[0m in \u001b[0;36m<module>\u001b[1;34m\u001b[0m\n\u001b[1;32m----> 1\u001b[1;33m \u001b[0mfinal_data\u001b[0m\u001b[1;33m[\u001b[0m\u001b[1;34m\"sessions\"\u001b[0m\u001b[1;33m]\u001b[0m\u001b[1;33m\u001b[0m\u001b[1;33m\u001b[0m\u001b[0m\n\u001b[0m",
      "\u001b[1;31mTypeError\u001b[0m: list indices must be integers or slices, not str"
     ]
    }
   ],
   "source": [
    "final_data[\"sessions\"]"
   ]
  },
  {
   "cell_type": "code",
   "execution_count": null,
   "id": "executed-macedonia",
   "metadata": {},
   "outputs": [],
   "source": []
  }
 ],
 "metadata": {
  "kernelspec": {
   "display_name": "Python 3",
   "language": "python",
   "name": "python3"
  },
  "language_info": {
   "codemirror_mode": {
    "name": "ipython",
    "version": 3
   },
   "file_extension": ".py",
   "mimetype": "text/x-python",
   "name": "python",
   "nbconvert_exporter": "python",
   "pygments_lexer": "ipython3",
   "version": "3.9.0"
  },
  "toc": {
   "base_numbering": 1,
   "nav_menu": {},
   "number_sections": true,
   "sideBar": true,
   "skip_h1_title": false,
   "title_cell": "Table of Contents",
   "title_sidebar": "Contents",
   "toc_cell": true,
   "toc_position": {},
   "toc_section_display": true,
   "toc_window_display": true
  }
 },
 "nbformat": 4,
 "nbformat_minor": 5
}
